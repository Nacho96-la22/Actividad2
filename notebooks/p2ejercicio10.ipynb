{
 "cells": [
  {
   "cell_type": "markdown",
   "metadata": {},
   "source": [
    "## 10. Simulación de partidas y ranking en shooter online\n",
    "Simule varias partidas de un juego de disparos y genere un ranking basado en el puntaje total de cada jugador. Se utilizará el siguiente sistema de puntuación:"
   ]
  },
  {
   "cell_type": "markdown",
   "metadata": {},
   "source": [
    "|   Acción   |   Puntos   |\n",
    "|------------|------------|\n",
    "|    Kill    |     3      |\n",
    "| Asistencia |     1      |\n",
    "|   Muerte   |    -1      |\n",
    "\n",
    "Dado el siguiente conjunto de rondas:\n"
   ]
  },
  {
   "cell_type": "markdown",
   "metadata": {},
   "source": [
    "Imprima las tablas de resultados luego de la inserción de cada una de las rondas pudiendo ver el progreso en el equipo.\n",
    "\n",
    "Además cada ronda debe tener un MVP (Mejor Jugador del Partido/ronda) basado en su\n",
    "puntuación. La cantidad de veces que el jugador ha sido MVP también se debe contabilizar\n",
    "\n",
    "Se debe imprimir el total de kills, asistencias, muertes, cantidad de MVP y puntos totales. La\n",
    "tabla tienen que estar en orden decreciente por los puntos totales."
   ]
  },
  {
   "cell_type": "code",
   "execution_count": 19,
   "metadata": {},
   "outputs": [],
   "source": [
    "import sys\n",
    "import os\n",
    "\n",
    "sys.path.append(os.path.abspath(\"../src\"))"
   ]
  },
  {
   "cell_type": "code",
   "execution_count": 20,
   "metadata": {},
   "outputs": [
    {
     "name": "stdout",
     "output_type": "stream",
     "text": [
      "> Round 1:\n",
      "Shadow: {'kills': 2, 'assists': 1, 'deaths': True} | 6\n",
      "Viper: {'kills': 1, 'assists': 2, 'deaths': True} | 4\n",
      "Reaper: {'kills': 1, 'assists': 1, 'deaths': False} | 4\n",
      "Blaze: {'kills': 1, 'assists': 0, 'deaths': False} | 3\n",
      "Frost: {'kills': 0, 'assists': 1, 'deaths': False} | 1\n",
      "- MVP de la ronda: Shadow\n",
      "-------------------------------------------------------\n",
      "> Round 2:\n",
      "Frost: {'kills': 2, 'assists': 1, 'deaths': True} | 6\n",
      "Blaze: {'kills': 2, 'assists': 0, 'deaths': True} | 5\n",
      "Viper: {'kills': 1, 'assists': 1, 'deaths': False} | 4\n",
      "Shadow: {'kills': 0, 'assists': 2, 'deaths': False} | 2\n",
      "Reaper: {'kills': 0, 'assists': 1, 'deaths': False} | 1\n",
      "- MVP de la ronda: Frost\n",
      "-------------------------------------------------------\n",
      "> Round 3:\n",
      "Blaze: {'kills': 2, 'assists': 2, 'deaths': True} | 7\n",
      "Reaper: {'kills': 1, 'assists': 1, 'deaths': False} | 4\n",
      "Shadow: {'kills': 1, 'assists': 0, 'deaths': False} | 3\n",
      "Viper: {'kills': 1, 'assists': 1, 'deaths': True} | 3\n",
      "Frost: {'kills': 0, 'assists': 1, 'deaths': False} | 1\n",
      "- MVP de la ronda: Blaze\n",
      "-------------------------------------------------------\n",
      "> Round 4:\n",
      "Shadow: {'kills': 2, 'assists': 1, 'deaths': False} | 7\n",
      "Reaper: {'kills': 1, 'assists': 1, 'deaths': False} | 4\n",
      "Frost: {'kills': 1, 'assists': 1, 'deaths': True} | 3\n",
      "Blaze: {'kills': 1, 'assists': 0, 'deaths': True} | 2\n",
      "Viper: {'kills': 0, 'assists': 2, 'deaths': False} | 2\n",
      "- MVP de la ronda: Shadow\n",
      "-------------------------------------------------------\n",
      "> Round 5:\n",
      "Viper: {'kills': 2, 'assists': 0, 'deaths': True} | 5\n",
      "Shadow: {'kills': 1, 'assists': 2, 'deaths': True} | 4\n",
      "Frost: {'kills': 1, 'assists': 1, 'deaths': False} | 4\n",
      "Reaper: {'kills': 1, 'assists': 1, 'deaths': True} | 3\n",
      "Blaze: {'kills': 0, 'assists': 1, 'deaths': False} | 1\n",
      "- MVP de la ronda: Viper\n",
      "-------------------------------------------------------\n",
      "> Ranking final:\n",
      "Jugador     Kills    Assists  Deaths   MVP     Score\n",
      "-------------------------------------------------------\n",
      "Shadow     | 108    | 36     | 12     | 12    | 132   |\n",
      "Blaze      | 108    | 18     | 18     | 6     | 108   |\n",
      "Viper      | 90     | 36     | 18     | 6     | 108   |\n",
      "Reaper     | 72     | 30     | 6      | 0     | 96    |\n",
      "Frost      | 72     | 30     | 12     | 6     | 90    |\n",
      "-------------------------------------------------------\n"
     ]
    },
    {
     "data": {
      "text/plain": [
       "[{'Shadow': {'kills': 2, 'assists': 1, 'deaths': True},\n",
       "  'Blaze': {'kills': 1, 'assists': 0, 'deaths': False},\n",
       "  'Viper': {'kills': 1, 'assists': 2, 'deaths': True},\n",
       "  'Frost': {'kills': 0, 'assists': 1, 'deaths': False},\n",
       "  'Reaper': {'kills': 1, 'assists': 1, 'deaths': False}},\n",
       " {'Shadow': {'kills': 0, 'assists': 2, 'deaths': False},\n",
       "  'Blaze': {'kills': 2, 'assists': 0, 'deaths': True},\n",
       "  'Viper': {'kills': 1, 'assists': 1, 'deaths': False},\n",
       "  'Frost': {'kills': 2, 'assists': 1, 'deaths': True},\n",
       "  'Reaper': {'kills': 0, 'assists': 1, 'deaths': False}},\n",
       " {'Shadow': {'kills': 1, 'assists': 0, 'deaths': False},\n",
       "  'Blaze': {'kills': 2, 'assists': 2, 'deaths': True},\n",
       "  'Viper': {'kills': 1, 'assists': 1, 'deaths': True},\n",
       "  'Frost': {'kills': 0, 'assists': 1, 'deaths': False},\n",
       "  'Reaper': {'kills': 1, 'assists': 1, 'deaths': False}},\n",
       " {'Shadow': {'kills': 2, 'assists': 1, 'deaths': False},\n",
       "  'Blaze': {'kills': 1, 'assists': 0, 'deaths': True},\n",
       "  'Viper': {'kills': 0, 'assists': 2, 'deaths': False},\n",
       "  'Frost': {'kills': 1, 'assists': 1, 'deaths': True},\n",
       "  'Reaper': {'kills': 1, 'assists': 1, 'deaths': False}},\n",
       " {'Shadow': {'kills': 1, 'assists': 2, 'deaths': True},\n",
       "  'Blaze': {'kills': 0, 'assists': 1, 'deaths': False},\n",
       "  'Viper': {'kills': 2, 'assists': 0, 'deaths': True},\n",
       "  'Frost': {'kills': 1, 'assists': 1, 'deaths': False},\n",
       "  'Reaper': {'kills': 1, 'assists': 1, 'deaths': True}}]"
      ]
     },
     "execution_count": 20,
     "metadata": {},
     "output_type": "execute_result"
    }
   ],
   "source": [
    "from rondas import rondas_data\n",
    "\n",
    "rounds = [\n",
    "           {\n",
    "           'Shadow': {'kills': 2, 'assists': 1, 'deaths': True},\n",
    "           'Blaze': {'kills': 1, 'assists': 0, 'deaths': False},\n",
    "           'Viper': {'kills': 1, 'assists': 2, 'deaths': True},\n",
    "           'Frost': {'kills': 0, 'assists': 1, 'deaths': False},\n",
    "           'Reaper': {'kills': 1, 'assists': 1, 'deaths': False}\n",
    "           },\n",
    "           {\n",
    "           'Shadow': {'kills': 0, 'assists': 2, 'deaths': False},\n",
    "           'Blaze': {'kills': 2, 'assists': 0, 'deaths': True},\n",
    "           'Viper': {'kills': 1, 'assists': 1, 'deaths': False},\n",
    "           'Frost': {'kills': 2, 'assists': 1, 'deaths': True},\n",
    "           'Reaper': {'kills': 0, 'assists': 1, 'deaths': False}\n",
    "           },\n",
    "           {\n",
    "           'Shadow': {'kills': 1, 'assists': 0, 'deaths': False},\n",
    "           'Blaze': {'kills': 2, 'assists': 2, 'deaths': True},\n",
    "           'Viper': {'kills': 1, 'assists': 1, 'deaths': True},\n",
    "           'Frost': {'kills': 0, 'assists': 1, 'deaths': False},\n",
    "           'Reaper': {'kills': 1, 'assists': 1, 'deaths': False}\n",
    "           },\n",
    "           {\n",
    "           'Shadow': {'kills': 2, 'assists': 1, 'deaths': False},\n",
    "           'Blaze': {'kills': 1, 'assists': 0, 'deaths': True},\n",
    "           'Viper': {'kills': 0, 'assists': 2, 'deaths': False},\n",
    "           'Frost': {'kills': 1, 'assists': 1, 'deaths': True},\n",
    "           'Reaper': {'kills': 1, 'assists': 1, 'deaths': False}\n",
    "           },\n",
    "           {\n",
    "           'Shadow': {'kills': 1, 'assists': 2, 'deaths': True},\n",
    "           'Blaze': {'kills': 0, 'assists': 1, 'deaths': False},\n",
    "           'Viper': {'kills': 2, 'assists': 0, 'deaths': True},\n",
    "           'Frost': {'kills': 1, 'assists': 1, 'deaths': False},\n",
    "           'Reaper': {'kills': 1, 'assists': 1, 'deaths': True}\n",
    "           }]\n",
    "\n",
    "# Main\n",
    "rondas_data(rounds)"
   ]
  }
 ],
 "metadata": {
  "kernelspec": {
   "display_name": "Python 3",
   "language": "python",
   "name": "python3"
  },
  "language_info": {
   "codemirror_mode": {
    "name": "ipython",
    "version": 3
   },
   "file_extension": ".py",
   "mimetype": "text/x-python",
   "name": "python",
   "nbconvert_exporter": "python",
   "pygments_lexer": "ipython3",
   "version": "3.12.9"
  }
 },
 "nbformat": 4,
 "nbformat_minor": 2
}
